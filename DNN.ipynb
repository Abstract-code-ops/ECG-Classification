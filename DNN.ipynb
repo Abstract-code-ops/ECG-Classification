{
  "cells": [
    {
      "cell_type": "markdown",
      "metadata": {
        "id": "view-in-github",
        "colab_type": "text"
      },
      "source": [
        "<a href=\"https://colab.research.google.com/github/Abstract-code-ops/ECG-Classification/blob/main/DNN.ipynb\" target=\"_parent\"><img src=\"https://colab.research.google.com/assets/colab-badge.svg\" alt=\"Open In Colab\"/></a>"
      ]
    },
    {
      "cell_type": "code",
      "execution_count": null,
      "metadata": {
        "id": "bA4cvgISYI21"
      },
      "outputs": [],
      "source": [
        "import zipfile\n",
        "import shutil\n",
        "import datetime\n",
        "from google.colab import drive\n",
        "from sklearn.utils import shuffle\n",
        "import tensorflow as tf\n",
        "from tensorflow.keras.callbacks import EarlyStopping\n",
        "import keras\n",
        "from tensorflow.keras.regularizers import l2\n",
        "import os\n",
        "import cv2\n",
        "import numpy as np\n",
        "from sklearn.model_selection import train_test_split\n",
        "from tensorflow.keras.models import Sequential\n",
        "from tensorflow.keras.layers import Conv2D, MaxPooling2D, Dense, Flatten, Dropout, BatchNormalization, GlobalAveragePooling2D\n",
        "from tensorflow.keras.preprocessing.image import ImageDataGenerator\n",
        "from sklearn.tree import DecisionTreeClassifier\n",
        "from sklearn.ensemble import AdaBoostClassifier\n",
        "import xgboost as xgb\n",
        "from sklearn.svm import SVC\n",
        "from sklearn.neural_network import MLPClassifier\n",
        "from sklearn.ensemble import VotingClassifier\n",
        "import joblib\n",
        "from sklearn.metrics import accuracy_score\n",
        "from tensorflow.keras.models import load_model\n",
        "import matplotlib.pyplot as plt\n",
        "import ipywidgets as widgets\n",
        "from IPython.display import display"
      ]
    },
    {
      "cell_type": "code",
      "execution_count": null,
      "metadata": {
        "colab": {
          "base_uri": "https://localhost:8080/"
        },
        "id": "Ysu_L9X8_sz-",
        "outputId": "29b4f0a3-e665-43af-d510-98f49c96d20f"
      },
      "outputs": [
        {
          "name": "stdout",
          "output_type": "stream",
          "text": [
            "Mounted at /content/drive\n"
          ]
        }
      ],
      "source": [
        "drive.mount('/content/drive')"
      ]
    },
    {
      "cell_type": "code",
      "execution_count": null,
      "metadata": {
        "id": "U--r7CkQYNbr"
      },
      "outputs": [],
      "source": [
        "with zipfile.ZipFile(\"drive/MyDrive/jupy_all.zip\", 'r') as zip_ref:\n",
        "    zip_ref.extractall(\"..\")"
      ]
    },
    {
      "cell_type": "code",
      "execution_count": null,
      "metadata": {
        "colab": {
          "base_uri": "https://localhost:8080/",
          "height": 183
        },
        "id": "Ix6AhyuXNXMd",
        "outputId": "c853b910-c71e-4ced-8751-a54e75eb1d62"
      },
      "outputs": [
        {
          "ename": "NameError",
          "evalue": "name 'pd' is not defined",
          "output_type": "error",
          "traceback": [
            "\u001b[0;31m---------------------------------------------------------------------------\u001b[0m",
            "\u001b[0;31mNameError\u001b[0m                                 Traceback (most recent call last)",
            "\u001b[0;32m<ipython-input-5-c046fcaa9593>\u001b[0m in \u001b[0;36m<cell line: 4>\u001b[0;34m()\u001b[0m\n\u001b[1;32m      2\u001b[0m \u001b[0mmetadata_path\u001b[0m \u001b[0;34m=\u001b[0m \u001b[0;34m'path_to_dataset/ptbxl_database.csv'\u001b[0m\u001b[0;34m\u001b[0m\u001b[0;34m\u001b[0m\u001b[0m\n\u001b[1;32m      3\u001b[0m \u001b[0;31m# Load the metadata\u001b[0m\u001b[0;34m\u001b[0m\u001b[0;34m\u001b[0m\u001b[0m\n\u001b[0;32m----> 4\u001b[0;31m \u001b[0mmetadata\u001b[0m \u001b[0;34m=\u001b[0m \u001b[0mpd\u001b[0m\u001b[0;34m.\u001b[0m\u001b[0mread_csv\u001b[0m\u001b[0;34m(\u001b[0m\u001b[0mmetadata_path\u001b[0m\u001b[0;34m)\u001b[0m\u001b[0;34m\u001b[0m\u001b[0;34m\u001b[0m\u001b[0m\n\u001b[0m",
            "\u001b[0;31mNameError\u001b[0m: name 'pd' is not defined"
          ]
        }
      ],
      "source": [
        "# # Path to the CSV file\n",
        "# metadata_path = 'path_to_dataset/ptbxl_database.csv'\n",
        "# # Load the metadata\n",
        "# metadata = pd.read_csv(metadata_path)"
      ]
    },
    {
      "cell_type": "code",
      "execution_count": null,
      "metadata": {
        "colab": {
          "base_uri": "https://localhost:8080/"
        },
        "id": "e4j1hIJAsiBE",
        "outputId": "1d2671fd-d959-4904-f3bf-ea66ea363125"
      },
      "outputs": [
        {
          "name": "stdout",
          "output_type": "stream",
          "text": [
            "all good\n"
          ]
        }
      ],
      "source": [
        "try:\n",
        "  shutil.rmtree('logs')\n",
        "except:\n",
        "  print('all good')"
      ]
    },
    {
      "cell_type": "code",
      "source": [
        "def load_data(path, label_dict):\n",
        "    data = []\n",
        "    label = []\n",
        "    for cat, label_value in label_dict.items():\n",
        "        pic_list = os.path.join(path, cat)\n",
        "        for img in os.listdir(pic_list):\n",
        "            image_path = os.path.join(pic_list, img)\n",
        "            image = cv2.imread(image_path)\n",
        "            image = cv2.cvtColor(image, cv2.COLOR_BGR2RGB)\n",
        "            image = cv2.resize(image, (224, 224))\n",
        "            data.append(image)\n",
        "            label.append(label_value)\n",
        "    return np.array(data), np.array(label)"
      ],
      "metadata": {
        "id": "uIQ76Nrp9Ek-"
      },
      "execution_count": null,
      "outputs": []
    },
    {
      "cell_type": "code",
      "execution_count": null,
      "metadata": {
        "id": "TQzwSWEWYOAs"
      },
      "outputs": [],
      "source": [
        "label_dict = {\n",
        "    'HB': 0,\n",
        "    'MI': 1,\n",
        "    'Normal': 2,\n",
        "    'PMI': 3\n",
        "}\n",
        "\n",
        "path = os.path.join(\"..\", \"jupy_all\")\n",
        "\n",
        "data, label = load_data(path, label_dict)\n",
        "data, label = shuffle(data, label, random_state=42)  # Shuffle the data and labels together\n",
        "data = data.astype('float32') / 255.0\n",
        "num_classes = len(label_dict)\n",
        "label = keras.utils.to_categorical(label, num_classes)\n",
        "train_data, test_data, train_label, test_label = train_test_split(data, label, test_size=0.35, random_state=42)\n",
        "train_data_flatten = train_data.reshape(train_data.shape[0], -1)\n",
        "test_data_flatten = test_data.reshape(test_data.shape[0], -1)\n",
        "\n",
        "path2 = os.path.join(\"..\", \"jupy_all\", \"check\")\n",
        "\n",
        "check_data,check_label = load_data(path2,label_dict)\n",
        "check_data=check_data.astype('float32')/255.0\n",
        "num_classes=len(label_dict)\n",
        "check_label=keras.utils.to_categorical(check_label,num_classes)\n",
        "check_data, check_label = shuffle(check_data, check_label, random_state=42)\n",
        "\n",
        "datagen = ImageDataGenerator(\n",
        "    width_shift_range=0.2,  # Horizontal shift\n",
        "    height_shift_range=0.2,  # Vertical shift\n",
        "    shear_range=0.2,  # Shearing\n",
        "    brightness_range=[0.8, 1.2],  # Brightness adjustment\n",
        "    channel_shift_range=50.0,  # Channel shift\n",
        "    fill_mode='nearest'  # Filling mode for transformations\n",
        ")\n",
        "datagen.fit(train_data)"
      ]
    },
    {
      "cell_type": "code",
      "execution_count": null,
      "metadata": {
        "collapsed": true,
        "id": "HPdrmFLKzllF"
      },
      "outputs": [],
      "source": [
        "svm_model = SVC(kernel='rbf', C=1.0, random_state=42, probability=True)\n",
        "svm_model.fit(train_data_flatten, np.argmax(train_label, axis=1))\n",
        "svm_accuracy = svm_model.score(test_data_flatten, np.argmax(test_label, axis=1))\n",
        "print(\"SVM Accuracy:\", svm_accuracy)\n",
        "xgb_model = xgb.XGBClassifier(objective='multi:softmax', num_class=num_classes, random_state=42)\n",
        "xgb_model.fit(train_data_flatten, np.argmax(train_label, axis=1))\n",
        "xgb_accuracy = xgb_model.score(test_data_flatten, np.argmax(test_label, axis=1))\n",
        "print(\"XGBoost Accuracy:\", xgb_accuracy)\n",
        "base_estimator = DecisionTreeClassifier(max_depth=5)\n",
        "adaboost_model = AdaBoostClassifier(estimator=base_estimator, n_estimators=50, random_state=42)\n",
        "adaboost_model.fit(train_data_flatten, np.argmax(train_label, axis=1))\n",
        "adaboost_accuracy = adaboost_model.score(test_data_flatten, np.argmax(test_label, axis=1))\n",
        "print(\"AdaBoost Accuracy:\", adaboost_accuracy)"
      ]
    },
    {
      "cell_type": "code",
      "execution_count": null,
      "metadata": {
        "colab": {
          "base_uri": "https://localhost:8080/"
        },
        "id": "92Pu_sa2YUgI",
        "outputId": "b2fdb927-4200-4b70-c24b-97a2a6246078"
      },
      "outputs": [
        {
          "name": "stdout",
          "output_type": "stream",
          "text": [
            "Model: \"sequential\"\n",
            "_________________________________________________________________\n",
            " Layer (type)                Output Shape              Param #   \n",
            "=================================================================\n",
            " conv2d (Conv2D)             (None, 222, 222, 32)      896       \n",
            "                                                                 \n",
            " batch_normalization (Batch  (None, 222, 222, 32)      128       \n",
            " Normalization)                                                  \n",
            "                                                                 \n",
            " max_pooling2d (MaxPooling2  (None, 111, 111, 32)      0         \n",
            " D)                                                              \n",
            "                                                                 \n",
            " conv2d_1 (Conv2D)           (None, 109, 109, 64)      18496     \n",
            "                                                                 \n",
            " batch_normalization_1 (Bat  (None, 109, 109, 64)      256       \n",
            " chNormalization)                                                \n",
            "                                                                 \n",
            " max_pooling2d_1 (MaxPoolin  (None, 54, 54, 64)        0         \n",
            " g2D)                                                            \n",
            "                                                                 \n",
            " conv2d_2 (Conv2D)           (None, 52, 52, 128)       73856     \n",
            "                                                                 \n",
            " batch_normalization_2 (Bat  (None, 52, 52, 128)       512       \n",
            " chNormalization)                                                \n",
            "                                                                 \n",
            " max_pooling2d_2 (MaxPoolin  (None, 26, 26, 128)       0         \n",
            " g2D)                                                            \n",
            "                                                                 \n",
            " global_average_pooling2d (  (None, 128)               0         \n",
            " GlobalAveragePooling2D)                                         \n",
            "                                                                 \n",
            " dense (Dense)               (None, 128)               16512     \n",
            "                                                                 \n",
            " dropout (Dropout)           (None, 128)               0         \n",
            "                                                                 \n",
            " dense_1 (Dense)             (None, 4)                 516       \n",
            "                                                                 \n",
            "=================================================================\n",
            "Total params: 111172 (434.27 KB)\n",
            "Trainable params: 110724 (432.52 KB)\n",
            "Non-trainable params: 448 (1.75 KB)\n",
            "_________________________________________________________________\n"
          ]
        }
      ],
      "source": [
        "model = Sequential()\n",
        "model.add(Conv2D(32, (3, 3), activation='relu', input_shape=(224, 224, 3), kernel_regularizer=l2(0.001)))\n",
        "model.add(BatchNormalization())\n",
        "model.add(MaxPooling2D())\n",
        "model.add(Conv2D(64, (3, 3), activation='relu', kernel_regularizer=l2(0.001)))\n",
        "model.add(BatchNormalization())\n",
        "model.add(MaxPooling2D())\n",
        "model.add(Conv2D(128, (3, 3), activation='relu', kernel_regularizer=l2(0.001)))\n",
        "model.add(BatchNormalization())\n",
        "model.add(MaxPooling2D())\n",
        "model.add(GlobalAveragePooling2D())\n",
        "model.add(Dense(128, activation='relu', kernel_regularizer=l2(0.001)))\n",
        "model.add(Dropout(0.5))\n",
        "model.add(Dense(num_classes, activation='softmax'))\n",
        "\n",
        "model.compile(optimizer='adam', loss='categorical_crossentropy', metrics=['accuracy'])\n",
        "\n",
        "model.summary()"
      ]
    },
    {
      "cell_type": "code",
      "execution_count": null,
      "metadata": {
        "colab": {
          "base_uri": "https://localhost:8080/"
        },
        "id": "CnlXE4iXwNv1",
        "outputId": "447169d5-061b-4249-8510-efa6ffba99f9"
      },
      "outputs": [
        {
          "data": {
            "text/plain": [
              "0.9612903225806452"
            ]
          },
          "execution_count": 8,
          "metadata": {},
          "output_type": "execute_result"
        }
      ],
      "source": [
        "final_model = VotingClassifier(\n",
        "    estimators=[('AdaBoostClassifier', adaboost_model), ('xgb', xgb_model), ('svm', svm_model), (\"cnn\", model)], voting='hard')\n",
        "\n",
        "final_model.fit(train_data_flatten, np.argmax(train_label, axis=1))\n",
        "\n",
        "final_model.score(test_data_flatten, np.argmax(test_label, axis=1))"
      ]
    },
    {
      "cell_type": "code",
      "execution_count": null,
      "metadata": {
        "colab": {
          "base_uri": "https://localhost:8080/"
        },
        "id": "5IWKmdvHOS7o",
        "outputId": "878ba585-b805-49d3-8fbe-949dab891552"
      },
      "outputs": [
        {
          "data": {
            "text/plain": [
              "['final_model_hard.joblib']"
            ]
          },
          "execution_count": 11,
          "metadata": {},
          "output_type": "execute_result"
        }
      ],
      "source": [
        "joblib.dump(final_model, \"final_model_hard.joblib\")"
      ]
    },
    {
      "cell_type": "code",
      "execution_count": null,
      "metadata": {
        "colab": {
          "background_save": true
        },
        "id": "sKsq1oGnwwkG",
        "outputId": "ec2ea339-2195-4a39-eac7-b983be38e905"
      },
      "outputs": [
        {
          "data": {
            "text/plain": [
              "0.9720430107526882"
            ]
          },
          "execution_count": 10,
          "metadata": {},
          "output_type": "execute_result"
        }
      ],
      "source": [
        "final_model2 = VotingClassifier(\n",
        "    estimators=[('AdaBoostClassifier', adaboost_model), ('xgb', xgb_model), ('svm', svm_model)], voting='soft')\n",
        "\n",
        "final_model2.fit(train_data_flatten, np.argmax(train_label, axis=1))\n",
        "\n",
        "final_model2.score(test_data_flatten, np.argmax(test_label, axis=1))"
      ]
    },
    {
      "cell_type": "code",
      "execution_count": null,
      "metadata": {
        "colab": {
          "background_save": true
        },
        "id": "AC_l8UpD6jTr",
        "outputId": "803aa02f-83ab-4368-b97f-4d5a500395b1"
      },
      "outputs": [
        {
          "ename": "NameError",
          "evalue": "name 'joblib' is not defined",
          "output_type": "error",
          "traceback": [
            "\u001b[0;31m---------------------------------------------------------------------------\u001b[0m",
            "\u001b[0;31mNameError\u001b[0m                                 Traceback (most recent call last)",
            "\u001b[0;32m<ipython-input-11-26ce7176907e>\u001b[0m in \u001b[0;36m<cell line: 1>\u001b[0;34m()\u001b[0m\n\u001b[0;32m----> 1\u001b[0;31m \u001b[0mjoblib\u001b[0m\u001b[0;34m.\u001b[0m\u001b[0mdump\u001b[0m\u001b[0;34m(\u001b[0m\u001b[0mfinal_model2\u001b[0m\u001b[0;34m,\u001b[0m\u001b[0;34m\"final_model_soft.joblib\"\u001b[0m\u001b[0;34m)\u001b[0m\u001b[0;34m\u001b[0m\u001b[0;34m\u001b[0m\u001b[0m\n\u001b[0m",
            "\u001b[0;31mNameError\u001b[0m: name 'joblib' is not defined"
          ]
        }
      ],
      "source": [
        "joblib.dump(final_model2,\"final_model_soft.joblib\")"
      ]
    },
    {
      "cell_type": "code",
      "execution_count": null,
      "metadata": {
        "colab": {
          "background_save": true
        },
        "id": "9K_45wFndbGt"
      },
      "outputs": [],
      "source": [
        "score_accuracy1 = final_model.score(test_data_flatten, np.argmax(test_label, axis=1))\n",
        "score_accuracy2 = final_model2.score(test_data_flatten, np.argmax(test_label, axis=1))"
      ]
    },
    {
      "cell_type": "code",
      "execution_count": null,
      "metadata": {
        "id": "6LdMOfYWkuTK"
      },
      "outputs": [],
      "source": [
        "model.save(\"ecg_model.keras\")"
      ]
    },
    {
      "cell_type": "code",
      "execution_count": null,
      "metadata": {
        "id": "8wvVDnM8YVC2"
      },
      "outputs": [],
      "source": [
        "def translate_list(input_list):\n",
        "    translate_dict = {\n",
        "        0: 'HB',\n",
        "        1: 'Myocardial Infarction',\n",
        "        2: 'Normal Heartbeat',\n",
        "        3: 'History of MI'\n",
        "    }\n",
        "\n",
        "    return [translate_dict[n] for n in input_list]"
      ]
    },
    {
      "cell_type": "code",
      "execution_count": null,
      "metadata": {
        "colab": {
          "base_uri": "https://localhost:8080/"
        },
        "id": "IEzlPxTg9FNj",
        "outputId": "b8e870c1-eb0b-4474-f8e4-aa3f222a495e"
      },
      "outputs": [
        {
          "name": "stdout",
          "output_type": "stream",
          "text": [
            "Wed Jul 17 16:50:42 2024       \n",
            "+---------------------------------------------------------------------------------------+\n",
            "| NVIDIA-SMI 535.104.05             Driver Version: 535.104.05   CUDA Version: 12.2     |\n",
            "|-----------------------------------------+----------------------+----------------------+\n",
            "| GPU  Name                 Persistence-M | Bus-Id        Disp.A | Volatile Uncorr. ECC |\n",
            "| Fan  Temp   Perf          Pwr:Usage/Cap |         Memory-Usage | GPU-Util  Compute M. |\n",
            "|                                         |                      |               MIG M. |\n",
            "|=========================================+======================+======================|\n",
            "|   0  Tesla T4                       Off | 00000000:00:04.0 Off |                    0 |\n",
            "| N/A   66C    P0              32W /  70W |    107MiB / 15360MiB |      0%      Default |\n",
            "|                                         |                      |                  N/A |\n",
            "+-----------------------------------------+----------------------+----------------------+\n",
            "                                                                                         \n",
            "+---------------------------------------------------------------------------------------+\n",
            "| Processes:                                                                            |\n",
            "|  GPU   GI   CI        PID   Type   Process name                            GPU Memory |\n",
            "|        ID   ID                                                             Usage      |\n",
            "|=======================================================================================|\n",
            "+---------------------------------------------------------------------------------------+\n"
          ]
        }
      ],
      "source": [
        "!nvidia-smi"
      ]
    },
    {
      "cell_type": "code",
      "execution_count": null,
      "metadata": {
        "colab": {
          "base_uri": "https://localhost:8080/"
        },
        "id": "Bu1YKaJg-eMd",
        "outputId": "11c205e2-e5e2-402a-f96d-fc10d82ef7a7"
      },
      "outputs": [
        {
          "name": "stdout",
          "output_type": "stream",
          "text": [
            "Found GPU at: /device:GPU:0\n"
          ]
        }
      ],
      "source": [
        "device_name = tf.test.gpu_device_name()\n",
        "if device_name != '/device:GPU:0':\n",
        "  raise SystemError('GPU device not found')\n",
        "print('Found GPU at: {}'.format(device_name))"
      ]
    },
    {
      "cell_type": "code",
      "execution_count": null,
      "metadata": {
        "colab": {
          "base_uri": "https://localhost:8080/"
        },
        "id": "fPISjR-rlJ8x",
        "outputId": "540df71c-dbbf-492b-d364-ad1ed2e45ca8"
      },
      "outputs": [
        {
          "name": "stderr",
          "output_type": "stream",
          "text": [
            "/usr/local/lib/python3.10/dist-packages/xgboost/core.py:160: UserWarning: [09:46:31] WARNING: /workspace/src/c_api/c_api.cc:1240: Saving into deprecated binary model format, please consider using `json` or `ubj`. Model format will default to JSON in XGBoost 2.2 if not specified.\n",
            "  warnings.warn(smsg, UserWarning)\n"
          ]
        }
      ],
      "source": [
        "import joblib\n",
        "\n",
        "# Save the SVM model\n",
        "joblib.dump(svm_model, \"svm_model.pkl\")\n",
        "\n",
        "# Save the XGBoost model\n",
        "xgb_model.save_model(\"xgb_model.json\")\n",
        "xgb_model.save_model(\"xgb_model.keras\")\n",
        "\n",
        "# Save the AdaBoost model\n",
        "# joblib.dump(adaboost_model, \"adaboost_model.pkl\")\n",
        "# adaboost_model.save_model(\"adaboost_model.keras\")"
      ]
    },
    {
      "cell_type": "code",
      "execution_count": null,
      "metadata": {
        "colab": {
          "base_uri": "https://localhost:8080/"
        },
        "id": "aQNe1snYnfb1",
        "outputId": "100e6366-4bcd-4eae-c2ef-72430c5402bd"
      },
      "outputs": [
        {
          "name": "stdout",
          "output_type": "stream",
          "text": [
            "1/1 [==============================] - 0s 201ms/step\n",
            "['History of MI']\n"
          ]
        }
      ],
      "source": [
        "image_path = \"../content/normal.jpeg\"\n",
        "\n",
        "# Load the image\n",
        "image = cv2.imread(image_path)\n",
        "\n",
        "# Check if the image was successfully loaded\n",
        "if image is None:\n",
        "    print(f\"Error: Unable to load image at {image_path}\")\n",
        "else:\n",
        "    # Preprocess the image\n",
        "    image = cv2.cvtColor(image, cv2.COLOR_BGR2RGB)  # Convert BGR to RGB\n",
        "    image = cv2.resize(image, (224, 224))           # Resize the image to the input size of the model\n",
        "    image = image.astype('float32') / 255.0         # Normalize the image\n",
        "    image = np.expand_dims(image, axis=0)           # Add batch dimension\n",
        "\n",
        "    predictions = model.predict(image)\n",
        "\n",
        "    predicted_class_indices = np.argmax(predictions, axis=1)\n",
        "\n",
        "        Translate indices to labels\n",
        "    predicted_labels = translate_list(predicted_class_indices)\n",
        "\n",
        "    print(predicted_labels)\n"
      ]
    },
    {
      "cell_type": "code",
      "execution_count": null,
      "metadata": {
        "id": "1zzKsdcIre5_"
      },
      "outputs": [],
      "source": [
        "model = load_model(\"ecg_model.keras\")\n",
        "svm_model = joblib.load(\"svm_model.pkl\")\n",
        "xgb_model = xgb.Booster()\n",
        "xgb_model.load_model(\"xgb_model.json\")"
      ]
    },
    {
      "cell_type": "code",
      "execution_count": null,
      "metadata": {
        "collapsed": true,
        "id": "H-bXIs4OzmPm"
      },
      "outputs": [],
      "source": [
        "def predict_svm(model, image):\n",
        "\n",
        "    # Check if the image was successfully loaded\n",
        "    if image is None:\n",
        "        print(f\"Error: Unable to load image at\")\n",
        "    else:\n",
        "        # Preprocess the image\n",
        "        image = cv2.cvtColor(image, cv2.COLOR_BGR2RGB)  # Convert BGR to RGB\n",
        "        image = cv2.resize(image, (224, 224))           # Resize the image to the input size of the model\n",
        "        image = image.astype('float32') / 255.0         # Normalize the image\n",
        "        image = np.expand_dims(image, axis=0)           # Add batch dimension\n",
        "\n",
        "        image = image.reshape(1, -1)\n",
        "\n",
        "        predictions = model.predict(image)\n",
        "\n",
        "        predicted_class_index = predictions[0]\n",
        "\n",
        "        # Translate index to label\n",
        "        predicted_label = translate_list([predicted_class_index])[0] # Wrap in a list for translate_list function\n",
        "\n",
        "        print(predicted_label)\n",
        "        return predicted_label"
      ]
    },
    {
      "cell_type": "code",
      "execution_count": null,
      "metadata": {
        "collapsed": true,
        "id": "6KggKLXOzNSv"
      },
      "outputs": [],
      "source": [
        "def predict_cnn(model, image):\n",
        "    # Check if the image was successfully loaded\n",
        "    if image is None:\n",
        "        print(f\"Error: Unable to load image at\")\n",
        "    else:\n",
        "        # Preprocess the image\n",
        "        image = cv2.cvtColor(image, cv2.COLOR_BGR2RGB)  # Convert BGR to RGB\n",
        "        image = cv2.resize(image, (224, 224))           # Resize the image to the input size of the model\n",
        "        image = image.astype('float32') / 255.0         # Normalize the image\n",
        "        image = np.expand_dims(image, axis=0)           # Add batch dimension\n",
        "\n",
        "        # Removed the line that was flattening the image\n",
        "        # image = image.reshape(1, -1)\n",
        "\n",
        "        predictions = model.predict(image)\n",
        "\n",
        "        predicted_class_index = np.argmax(predictions, axis=1)[0] # Get the index with highest probability\n",
        "\n",
        "        # Translate index to label\n",
        "        predicted_label = translate_list([predicted_class_index])[0] # Wrap in a list for translate_list function\n",
        "\n",
        "        print(predicted_label)\n",
        "        return predicted_label # Return the predicted label\n"
      ]
    },
    {
      "cell_type": "code",
      "execution_count": null,
      "metadata": {
        "id": "s0aRfg-nyrvj"
      },
      "outputs": [],
      "source": [
        "def predict_xgb(model, image):\n",
        "    # Load the image\n",
        "\n",
        "    # Check if the image was successfully loaded\n",
        "    if image is None:\n",
        "        print(f\"Error: Unable to load image at\")\n",
        "    else:\n",
        "        # Preprocess the image\n",
        "        image = cv2.cvtColor(image, cv2.COLOR_BGR2RGB)  # Convert BGR to RGB\n",
        "        image = cv2.resize(image, (224, 224))           # Resize the image to the input size of the model\n",
        "        image = image.astype('float32') / 255.0         # Normalize the image\n",
        "        image = np.expand_dims(image, axis=0)           # Add batch dimension\n",
        "\n",
        "        image = image.reshape(1, -1)\n",
        "\n",
        "        # Convert NumPy array to DMatrix object\n",
        "        image_dmatrix = xgb.DMatrix(image)  # Create DMatrix for XGBoost\n",
        "\n",
        "        predictions = model.predict(image_dmatrix)  # Use DMatrix for prediction\n",
        "\n",
        "        predicted_class_index = predictions[0]\n",
        "\n",
        "        # Translate index to label\n",
        "        predicted_label = translate_list([predicted_class_index])[0] # Wrap in a list for translate_list function\n",
        "\n",
        "        print(predicted_label)\n",
        "        return predicted_label"
      ]
    },
    {
      "cell_type": "code",
      "execution_count": null,
      "metadata": {
        "colab": {
          "base_uri": "https://localhost:8080/"
        },
        "id": "WGvLKFEFv9-7",
        "outputId": "7c185554-2995-460b-c84c-a6b3593f65e8"
      },
      "outputs": [
        {
          "name": "stdout",
          "output_type": "stream",
          "text": [
            "2/2 [==============================] - 2s 556ms/step - loss: 0.2457 - accuracy: 0.9792\n",
            "xgb accuracy 0.9870967741935484\n",
            "SVM Accuracy: 0.967741935483871\n"
          ]
        }
      ],
      "source": [
        "check_loss, check_accuracy = model.evaluate(check_data, check_label)\n",
        "\n",
        "xgb_predictions = xgb_model.predict(xgb.DMatrix(test_data_flatten))\n",
        "xgb_predicted_classes = xgb_predictions\n",
        "# Calculate accuracy for XGBoost model\n",
        "xgb_accuracy = accuracy_score(np.argmax(test_label, axis=1), xgb_predicted_classes)\n",
        "print(\"xgb accuracy\",xgb_accuracy)\n",
        "\n",
        "svm_accuracy = svm_model.score(test_data_flatten, np.argmax(test_label, axis=1))\n",
        "print(\"SVM Accuracy:\", svm_accuracy)"
      ]
    },
    {
      "cell_type": "code",
      "execution_count": null,
      "metadata": {
        "colab": {
          "base_uri": "https://localhost:8080/",
          "height": 318
        },
        "id": "HpFeqMHMvqIZ",
        "outputId": "2380e9de-3527-4e26-fa4c-ccbe0423543a"
      },
      "outputs": [
        {
          "data": {
            "image/png": "[encoded data removed]",
            "text/plain": [
              "<Figure size 2000x500 with 4 Axes>"
            ]
          },
          "metadata": {},
          "output_type": "display_data"
        }
      ],
      "source": [
        "# Test loss and accuracy of all four models\n",
        "test_metrics = [(1 - check_accuracy,check_accuracy ), (1 - svm_accuracy, svm_accuracy),\n",
        "                (1 - xgb_accuracy, xgb_accuracy), (1 - score_accuracy1, score_accuracy1),\n",
        "                (1 - score_accuracy2, score_accuracy2)]\n",
        "model_names = ['CNN', 'SVM', 'XGBoost', 'Voting Hard', 'Voting Soft']\n",
        "\n",
        "# Plotting the pie chart\n",
        "# Plotting the pie charts side by side\n",
        "fig, axes = plt.subplots(1, 4, figsize=(20, 5))\n",
        "for ax, (loss, accuracy), model_name in zip(axes, test_metrics, model_names):\n",
        "    ax.pie([loss, accuracy], labels=['Loss', 'Accuracy'], autopct='%1.1f%%', startangle=140)\n",
        "    ax.set_title(f'{model_name} Metrics')\n",
        "    ax.axis('equal')  # Equal aspect ratio ensures that pie is drawn as a circle.\n",
        "\n",
        "plt.tight_layout()\n",
        "plt.show()"
      ]
    },
    {
      "cell_type": "code",
      "execution_count": null,
      "metadata": {
        "colab": {
          "base_uri": "https://localhost:8080/",
          "height": 195,
          "referenced_widgets": [
            "054b0d65d43d422a93f0ae35ac7961dd",
            "0d6856e85f134a16a2daa2e0c00aa2c0",
            "84bd1b4da19f49358691a33e396de71c"
          ]
        },
        "id": "H_GYbQe99dLL",
        "outputId": "f7b3b3c5-2357-4b8d-8ced-a76b2d56b738"
      },
      "outputs": [
        {
          "data": {
            "application/vnd.jupyter.widget-view+json": {
              "model_id": "054b0d65d43d422a93f0ae35ac7961dd",
              "version_major": 2,
              "version_minor": 0
            },
            "text/plain": [
              "FileUpload(value={}, accept='image/*', description='Upload')"
            ]
          },
          "metadata": {},
          "output_type": "display_data"
        },
        {
          "name": "stdout",
          "output_type": "stream",
          "text": [
            "HB\n",
            "1/1 [==============================] - 0s 72ms/step\n",
            "History of MI\n",
            "HB\n",
            "HB\n",
            "1/1 [==============================] - 0s 66ms/step\n",
            "Normal Heartbeat\n",
            "HB\n"
          ]
        }
      ],
      "source": [
        "# Create a file upload widget\n",
        "uploader = widgets.FileUpload(\n",
        "    accept='image/*',  # Accept only image files\n",
        "    multiple=False     # Allow only one file upload\n",
        ")\n",
        "\n",
        "# Display the upload widget\n",
        "display(uploader)\n",
        "\n",
        "# Define a function to handle file upload\n",
        "def handle_upload(change):\n",
        "    # Check if a file was uploaded\n",
        "    if uploader.value:\n",
        "        # Get the first (and only) uploaded file's info\n",
        "        file_info = next(iter(uploader.value.values()))\n",
        "\n",
        "        # Read the image\n",
        "        image = cv2.imdecode(np.frombuffer(file_info['content'], np.uint8), cv2.IMREAD_COLOR)\n",
        "\n",
        "        predictions_svm = predict_svm(svm_model, image)\n",
        "        predictions_cnn = predict_cnn(model, image)\n",
        "        predictions_xgb = predict_xgb(xgb_model, image)\n",
        "\n",
        "# Register the upload handler\n",
        "uploader.observe(handle_upload, names='value')"
      ]
    }
  ],
  "metadata": {
    "accelerator": "GPU",
    "colab": {
      "gpuType": "T4",
      "provenance": [],
      "include_colab_link": true
    },
    "kernelspec": {
      "display_name": "Python 3",
      "name": "python3"
    },
    "language_info": {
      "name": "python"
    },
    "widgets": {
      "application/vnd.jupyter.widget-state+json": {
        "054b0d65d43d422a93f0ae35ac7961dd": {
          "model_module": "@jupyter-widgets/controls",
          "model_module_version": "1.5.0",
          "model_name": "FileUploadModel",
          "state": {
            "_counter": 2,
            "_dom_classes": [],
            "_model_module": "@jupyter-widgets/controls",
            "_model_module_version": "1.5.0",
            "_model_name": "FileUploadModel",
            "_view_count": null,
            "_view_module": "@jupyter-widgets/controls",
            "_view_module_version": "1.5.0",
            "_view_name": "FileUploadView",
            "accept": "image/*",
            "button_style": "",
            "data": [
              null
            ],
            "description": "Upload",
            "description_tooltip": null,
            "disabled": false,
            "error": "",
            "icon": "upload",
            "layout": "IPY_MODEL_0d6856e85f134a16a2daa2e0c00aa2c0",
            "metadata": [
              {
                "lastModified": 1720910486057,
                "name": "Normal(1).jpg",
                "size": 697062,
                "type": "image/jpeg"
              }
            ],
            "multiple": false,
            "style": "IPY_MODEL_84bd1b4da19f49358691a33e396de71c"
          }
        },
        "0d6856e85f134a16a2daa2e0c00aa2c0": {
          "model_module": "@jupyter-widgets/base",
          "model_module_version": "1.2.0",
          "model_name": "LayoutModel",
          "state": {
            "_model_module": "@jupyter-widgets/base",
            "_model_module_version": "1.2.0",
            "_model_name": "LayoutModel",
            "_view_count": null,
            "_view_module": "@jupyter-widgets/base",
            "_view_module_version": "1.2.0",
            "_view_name": "LayoutView",
            "align_content": null,
            "align_items": null,
            "align_self": null,
            "border": null,
            "bottom": null,
            "display": null,
            "flex": null,
            "flex_flow": null,
            "grid_area": null,
            "grid_auto_columns": null,
            "grid_auto_flow": null,
            "grid_auto_rows": null,
            "grid_column": null,
            "grid_gap": null,
            "grid_row": null,
            "grid_template_areas": null,
            "grid_template_columns": null,
            "grid_template_rows": null,
            "height": null,
            "justify_content": null,
            "justify_items": null,
            "left": null,
            "margin": null,
            "max_height": null,
            "max_width": null,
            "min_height": null,
            "min_width": null,
            "object_fit": null,
            "object_position": null,
            "order": null,
            "overflow": null,
            "overflow_x": null,
            "overflow_y": null,
            "padding": null,
            "right": null,
            "top": null,
            "visibility": null,
            "width": null
          }
        },
        "84bd1b4da19f49358691a33e396de71c": {
          "model_module": "@jupyter-widgets/controls",
          "model_module_version": "1.5.0",
          "model_name": "ButtonStyleModel",
          "state": {
            "_model_module": "@jupyter-widgets/controls",
            "_model_module_version": "1.5.0",
            "_model_name": "ButtonStyleModel",
            "_view_count": null,
            "_view_module": "@jupyter-widgets/base",
            "_view_module_version": "1.2.0",
            "_view_name": "StyleView",
            "button_color": null,
            "font_weight": ""
          }
        }
      }
    }
  },
  "nbformat": 4,
  "nbformat_minor": 0
}